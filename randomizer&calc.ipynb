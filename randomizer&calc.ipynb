{
 "cells": [
  {
   "cell_type": "code",
   "execution_count": 7,
   "metadata": {},
   "outputs": [
    {
     "name": "stdout",
     "output_type": "stream",
     "text": [
      "Average is - 29.6\n",
      "Median is - 30.0\n",
      "Mode is - ModeResult(mode=array([11]), count=array([1]))\n",
      "Variance is - 199.44\n",
      "Deviation is - 14.122322755127783\n"
     ]
    }
   ],
   "source": [
    "#Import the necessary libraries\n",
    "import numpy as np\n",
    "from scipy import stats\n",
    "import random\n",
    "\n",
    "#Generate 5 random numbers between 5 and 50\n",
    "randomlist = random.sample(range(5, 50), 5)\n",
    "\n",
    "#Make array from random numbers\n",
    "example_array = np.array(randomlist)\n",
    "\n",
    "#Calculating\n",
    "average = np.average(example_array)\n",
    "median = np.median(example_array)\n",
    "mode = stats.mode(example_array)\n",
    "variance =  np.var(example_array)\n",
    "deviation = np.std(example_array)\n",
    "\n",
    "#Print\n",
    "print(\"Average is - \" + str(average))\n",
    "print(\"Median is - \" + str(median))\n",
    "print(\"Mode is - \" + str(mode))\n",
    "print(\"Variance is - \" + str(variance))\n",
    "print(\"Deviation is - \" + str(deviation))\n"
   ]
  }
 ],
 "metadata": {
  "interpreter": {
   "hash": "11bff68798604cbc31398a90d131c186d9d5d9aef09d06ed006b37137fb6325c"
  },
  "kernelspec": {
   "display_name": "Python 3.9.7 64-bit ('base': conda)",
   "language": "python",
   "name": "python3"
  },
  "language_info": {
   "codemirror_mode": {
    "name": "ipython",
    "version": 3
   },
   "file_extension": ".py",
   "mimetype": "text/x-python",
   "name": "python",
   "nbconvert_exporter": "python",
   "pygments_lexer": "ipython3",
   "version": "3.9.7"
  },
  "orig_nbformat": 4
 },
 "nbformat": 4,
 "nbformat_minor": 2
}
